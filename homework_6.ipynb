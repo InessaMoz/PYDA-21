{
 "cells": [
  {
   "cell_type": "markdown",
   "metadata": {},
   "source": [
    "### Домашнее задание к лекции «Исключения и обработка ошибок»"
   ]
  },
  {
   "cell_type": "markdown",
   "metadata": {},
   "source": [
    "### Задание 1\n",
    "Печатные газеты использовали свой формат дат для каждого выпуска. Для каждой газеты из списка напишите формат указанной даты для перевода в объект datetime:\n",
    "The Moscow Times - Wednesday, October 2, 2002\n",
    "The Guardian - Friday, 11.10.13\n",
    "Daily News - Thursday, 18 August 1977"
   ]
  },
  {
   "cell_type": "code",
   "execution_count": 1,
   "metadata": {},
   "outputs": [],
   "source": [
    "from datetime import datetime, timedelta"
   ]
  },
  {
   "cell_type": "code",
   "execution_count": 5,
   "metadata": {},
   "outputs": [
    {
     "data": {
      "text/plain": [
       "datetime.datetime(2002, 10, 2, 22, 40, 31)"
      ]
     },
     "execution_count": 5,
     "metadata": {},
     "output_type": "execute_result"
    }
   ],
   "source": [
    "# The Moscow Times - Wednesday, October 2, 2002\n",
    "\n",
    "datetime.strptime('Wednesday, October 2, 2002', '%A, %B %d, %Y')"
   ]
  },
  {
   "cell_type": "code",
   "execution_count": 4,
   "metadata": {},
   "outputs": [
    {
     "data": {
      "text/plain": [
       "datetime.datetime(2013, 10, 11, 0, 0)"
      ]
     },
     "execution_count": 4,
     "metadata": {},
     "output_type": "execute_result"
    }
   ],
   "source": [
    "# The Guardian - Friday, 11.10.13\n",
    "datetime.strptime('Friday, 11.10.13', '%A, %d.%m.%y')"
   ]
  },
  {
   "cell_type": "code",
   "execution_count": 3,
   "metadata": {},
   "outputs": [
    {
     "data": {
      "text/plain": [
       "datetime.datetime(1977, 8, 18, 0, 0)"
      ]
     },
     "execution_count": 3,
     "metadata": {},
     "output_type": "execute_result"
    }
   ],
   "source": [
    "# Daily News - Thursday, 18 August 1977\n",
    "datetime.strptime('Thursday, 18 August 1977', '%A, %d %B %Y')"
   ]
  },
  {
   "cell_type": "markdown",
   "metadata": {},
   "source": [
    "### Задание 2\n",
    "Дан поток дат в формате YYYY-MM-DD, в которых встречаются некорректные значения:\n",
    "stream = [‘2018-04-02’, ‘2018-02-29’, ‘2018-19-02’]\n",
    "\n",
    "Напишите функцию, которая проверяет эти даты на корректность. Т. е. для каждой даты возвращает True (дата корректна) или False (некорректная дата)."
   ]
  },
  {
   "cell_type": "code",
   "execution_count": 36,
   "metadata": {},
   "outputs": [],
   "source": [
    "DATE_FORMATS = ['%Y-%m-%d']"
   ]
  },
  {
   "cell_type": "code",
   "execution_count": 37,
   "metadata": {},
   "outputs": [],
   "source": [
    "def convert_to_date(data):\n",
    "        for format_ in DATE_FORMATS:\n",
    "            try:\n",
    "                datetime.strptime(data, format_)\n",
    "                print(data, True)\n",
    "            except:\n",
    "                print(data, False)\n",
    "                continue\n",
    "\n",
    "   "
   ]
  },
  {
   "cell_type": "code",
   "execution_count": 38,
   "metadata": {},
   "outputs": [
    {
     "name": "stdout",
     "output_type": "stream",
     "text": [
      "2018-04-02 True\n",
      "2018-02-29 False\n",
      "2018-19-02 False\n"
     ]
    }
   ],
   "source": [
    "stream = ['2018-04-02', '2018-02-29', '2018-19-02']\n",
    "\n",
    "for data in stream:\n",
    "    convert_to_date(data)"
   ]
  },
  {
   "cell_type": "markdown",
   "metadata": {},
   "source": [
    "### Задание 3\n",
    "Напишите функцию date_range, которая возвращает список дат за период от start_date до end_date. Даты должны вводиться в формате YYYY-MM-DD. В случае неверного формата или при start_date > end_date должен возвращаться пустой список."
   ]
  },
  {
   "cell_type": "code",
   "execution_count": 22,
   "metadata": {},
   "outputs": [
    {
     "name": "stdout",
     "output_type": "stream",
     "text": [
      "Введите начальную дату в формате YYYY-MM-DD: 2021-11-12\n",
      "Введите дату окончания в формате YYYY-MM-DD: 2021-11-30\n"
     ]
    },
    {
     "data": {
      "text/plain": [
       "['2021-11-12',\n",
       " '2021-11-13',\n",
       " '2021-11-14',\n",
       " '2021-11-15',\n",
       " '2021-11-16',\n",
       " '2021-11-17',\n",
       " '2021-11-18',\n",
       " '2021-11-19',\n",
       " '2021-11-20',\n",
       " '2021-11-21',\n",
       " '2021-11-22',\n",
       " '2021-11-23',\n",
       " '2021-11-24',\n",
       " '2021-11-25',\n",
       " '2021-11-26',\n",
       " '2021-11-27',\n",
       " '2021-11-28',\n",
       " '2021-11-29',\n",
       " '2021-11-30']"
      ]
     },
     "execution_count": 22,
     "metadata": {},
     "output_type": "execute_result"
    }
   ],
   "source": [
    "start_date = input('Введите начальную дату в формате YYYY-MM-DD: ')\n",
    "end_date = input('Введите дату окончания в формате YYYY-MM-DD: ')\n",
    "\n",
    "def date_range():\n",
    "    try:\n",
    "        days = []\n",
    "        start_dt = datetime.strptime(start_date,'%Y-%m-%d')\n",
    "        end_dt = datetime.strptime(end_date,'%Y-%m-%d')\n",
    "\n",
    "        while start_dt <= end_dt:\n",
    "            print_datetime = datetime.strftime(start_dt,'%Y-%m-%d')\n",
    "            days.append(print_datetime)\n",
    "            start_dt += timedelta(days = 1)\n",
    "    except ValueError:\n",
    "        days = []\n",
    "    return(days)\n",
    "date_range()"
   ]
  },
  {
   "cell_type": "code",
   "execution_count": null,
   "metadata": {},
   "outputs": [],
   "source": []
  }
 ],
 "metadata": {
  "kernelspec": {
   "display_name": "Python 3",
   "language": "python",
   "name": "python3"
  },
  "language_info": {
   "codemirror_mode": {
    "name": "ipython",
    "version": 3
   },
   "file_extension": ".py",
   "mimetype": "text/x-python",
   "name": "python",
   "nbconvert_exporter": "python",
   "pygments_lexer": "ipython3",
   "version": "3.8.5"
  }
 },
 "nbformat": 4,
 "nbformat_minor": 4
}
