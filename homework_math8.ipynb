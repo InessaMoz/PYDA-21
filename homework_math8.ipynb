{
 "cells": [
  {
   "cell_type": "markdown",
   "metadata": {
    "id": "SEdVAbjPgX8D"
   },
   "source": [
    "# Домашнее задание \"Теория вероятности. Непрерывные Случайные Величины\"."
   ]
  },
  {
   "cell_type": "markdown",
   "metadata": {
    "id": "Qjivof7Qgd3B"
   },
   "source": [
    "## Уровень 0:"
   ]
  },
  {
   "cell_type": "markdown",
   "metadata": {
    "id": "trb7_Xw0gUED"
   },
   "source": [
    "#### Задание 1:\n"
   ]
  },
  {
   "cell_type": "markdown",
   "metadata": {
    "id": "6ot79sTTgUG-"
   },
   "source": [
    "Выясните, на что влияют параметры распределений. Построить по 5 функций плотностей с разными параметрами для каждого распределения: нормальное, экспоненциальное, Стьюдента на одном графике.\n"
   ]
  },
  {
   "cell_type": "code",
   "execution_count": 2,
   "metadata": {},
   "outputs": [],
   "source": [
    "import pandas as pd\n",
    "import numpy as np\n",
    "import matplotlib.pyplot as plt\n",
    "import scipy.stats as sts\n",
    "\n",
    "%matplotlib inline"
   ]
  },
  {
   "cell_type": "markdown",
   "metadata": {},
   "source": [
    "##### Нормальное распределение"
   ]
  },
  {
   "cell_type": "code",
   "execution_count": 3,
   "metadata": {},
   "outputs": [
    {
     "data": {
      "text/plain": [
       "array([3.28691804, 2.6085918 , 1.89132498, 1.41671089, 1.87556425,\n",
       "       2.0677554 , 2.27485714, 1.4405184 , 1.40884259, 1.95670014])"
      ]
     },
     "execution_count": 3,
     "metadata": {},
     "output_type": "execute_result"
    }
   ],
   "source": [
    "# функция  1\n",
    "\n",
    "mu1 = 2.0\n",
    "sigma1 = 0.5\n",
    "\n",
    "# зададим нормально распределенную случайную величину\n",
    "norm_rv1 = sts.norm(loc=mu1, scale=sigma1)\n",
    "\n",
    "# сгенерируем 10 значений\n",
    "norm_rv1.rvs(size=10)"
   ]
  },
  {
   "cell_type": "markdown",
   "metadata": {},
   "source": [
    "Параметр ```loc``` задаёт $\\mu$, ```scale``` — среднеквадратичное отклонение $\\sigma$, ```size``` — размер выборки. Имя параметра ```size``` при вызове функции ```rvs``` можно не писать."
   ]
  },
  {
   "cell_type": "code",
   "execution_count": 4,
   "metadata": {},
   "outputs": [
    {
     "data": {
      "text/plain": [
       "0.10798193302637613"
      ]
     },
     "execution_count": 4,
     "metadata": {},
     "output_type": "execute_result"
    }
   ],
   "source": [
    "norm_rv1.pdf(3)"
   ]
  },
  {
   "cell_type": "code",
   "execution_count": 5,
   "metadata": {},
   "outputs": [
    {
     "data": {
      "text/plain": [
       "0.9772498680518208"
      ]
     },
     "execution_count": 5,
     "metadata": {},
     "output_type": "execute_result"
    }
   ],
   "source": [
    "norm_rv1.cdf(3)"
   ]
  },
  {
   "cell_type": "code",
   "execution_count": 6,
   "metadata": {},
   "outputs": [
    {
     "data": {
      "text/plain": [
       "array([2.29620846, 2.47229179, 3.18681523, 4.12753806, 2.26148265,\n",
       "       1.6749154 , 5.22983382, 3.51994127, 2.80564829, 4.25046391])"
      ]
     },
     "execution_count": 6,
     "metadata": {},
     "output_type": "execute_result"
    }
   ],
   "source": [
    "# функция  2\n",
    "\n",
    "mu2 = 3\n",
    "sigma2 = 1.0\n",
    "\n",
    "# зададим нормально распределенную случайную величину\n",
    "norm_rv2 = sts.norm(loc=mu2, scale=sigma2)\n",
    "\n",
    "# сгенерируем 10 значений\n",
    "norm_rv2.rvs(size=10)"
   ]
  },
  {
   "cell_type": "code",
   "execution_count": 7,
   "metadata": {},
   "outputs": [
    {
     "data": {
      "text/plain": [
       "0.3989422804014327"
      ]
     },
     "execution_count": 7,
     "metadata": {},
     "output_type": "execute_result"
    }
   ],
   "source": [
    "norm_rv2.pdf(3)"
   ]
  },
  {
   "cell_type": "code",
   "execution_count": 8,
   "metadata": {},
   "outputs": [
    {
     "data": {
      "text/plain": [
       "0.5"
      ]
     },
     "execution_count": 8,
     "metadata": {},
     "output_type": "execute_result"
    }
   ],
   "source": [
    "norm_rv2.cdf(3)"
   ]
  },
  {
   "cell_type": "code",
   "execution_count": 9,
   "metadata": {},
   "outputs": [
    {
     "data": {
      "text/plain": [
       "0.2129653370149015"
      ]
     },
     "execution_count": 9,
     "metadata": {},
     "output_type": "execute_result"
    }
   ],
   "source": [
    "# функция  3\n",
    "\n",
    "mu3 = 4\n",
    "sigma3 = 1.5\n",
    "\n",
    "# зададим нормально распределенную случайную величину\n",
    "norm_rv3 = sts.norm(loc=mu3, scale=sigma3)\n",
    "\n",
    "# сгенерируем 10 значений\n",
    "norm_rv3.rvs(size=10)\n",
    "norm_rv3.pdf(3)"
   ]
  },
  {
   "cell_type": "code",
   "execution_count": 10,
   "metadata": {},
   "outputs": [
    {
     "data": {
      "text/plain": [
       "0.2524925375469229"
      ]
     },
     "execution_count": 10,
     "metadata": {},
     "output_type": "execute_result"
    }
   ],
   "source": [
    "norm_rv3.cdf(3)"
   ]
  },
  {
   "cell_type": "code",
   "execution_count": 11,
   "metadata": {},
   "outputs": [
    {
     "data": {
      "text/plain": [
       "0.12098536225957168"
      ]
     },
     "execution_count": 11,
     "metadata": {},
     "output_type": "execute_result"
    }
   ],
   "source": [
    "# функция  4\n",
    "\n",
    "mu4 = 5\n",
    "sigma4 = 2\n",
    "\n",
    "# зададим нормально распределенную случайную величину\n",
    "norm_rv4 = sts.norm(loc=mu4, scale=sigma4)\n",
    "\n",
    "# сгенерируем 10 значений\n",
    "norm_rv4.rvs(size=10)\n",
    "norm_rv4.pdf(3)"
   ]
  },
  {
   "cell_type": "code",
   "execution_count": 12,
   "metadata": {},
   "outputs": [
    {
     "data": {
      "text/plain": [
       "0.15865525393145707"
      ]
     },
     "execution_count": 12,
     "metadata": {},
     "output_type": "execute_result"
    }
   ],
   "source": [
    "norm_rv4.cdf(3)"
   ]
  },
  {
   "cell_type": "code",
   "execution_count": 13,
   "metadata": {},
   "outputs": [
    {
     "data": {
      "text/plain": [
       "0.00026766045152977074"
      ]
     },
     "execution_count": 13,
     "metadata": {},
     "output_type": "execute_result"
    }
   ],
   "source": [
    "# функция  5\n",
    "\n",
    "mu5 = 1.0\n",
    "sigma5 = 0.5\n",
    "\n",
    "# зададим нормально распределенную случайную величину\n",
    "norm_rv5 = sts.norm(loc=mu5, scale=sigma5)\n",
    "\n",
    "# сгенерируем 10 значений\n",
    "norm_rv5.rvs(size=10)\n",
    "norm_rv5.pdf(3)"
   ]
  },
  {
   "cell_type": "code",
   "execution_count": 14,
   "metadata": {},
   "outputs": [
    {
     "data": {
      "text/plain": [
       "0.9999683287581669"
      ]
     },
     "execution_count": 14,
     "metadata": {},
     "output_type": "execute_result"
    }
   ],
   "source": [
    "norm_rv5.cdf(3)"
   ]
  },
  {
   "cell_type": "code",
   "execution_count": 15,
   "metadata": {},
   "outputs": [
    {
     "data": {
      "text/plain": [
       "Text(0.5, 0, '$x$')"
      ]
     },
     "execution_count": 15,
     "metadata": {},
     "output_type": "execute_result"
    },
    {
     "data": {
      "image/png": "[encoded data removed]",
      "text/plain": [
       "<Figure size 432x288 with 1 Axes>"
      ]
     },
     "metadata": {
      "needs_background": "light"
     },
     "output_type": "display_data"
    }
   ],
   "source": [
    "x = np.linspace(0,4,100)\n",
    "\n",
    "cdf = norm_rv1.cdf(x) \n",
    "plt.plot(x, cdf)\n",
    "\n",
    "cdf = norm_rv2.cdf(x) \n",
    "plt.plot(x, cdf)\n",
    "\n",
    "cdf = norm_rv3.cdf(x) \n",
    "plt.plot(x, cdf)\n",
    "\n",
    "cdf = norm_rv4.cdf(x) \n",
    "plt.plot(x, cdf)\n",
    "\n",
    "cdf = norm_rv5.cdf(x) \n",
    "plt.plot(x, cdf)\n",
    "\n",
    "plt.ylabel('$F(x)$')\n",
    "plt.xlabel('$x$')"
   ]
  },
  {
   "cell_type": "code",
   "execution_count": 16,
   "metadata": {},
   "outputs": [
    {
     "data": {
      "text/plain": [
       "Text(0.5, 0, '$x$')"
      ]
     },
     "execution_count": 16,
     "metadata": {},
     "output_type": "execute_result"
    },
    {
     "data": {
      "image/png": "[encoded data removed]",
      "text/plain": [
       "<Figure size 432x288 with 1 Axes>"
      ]
     },
     "metadata": {
      "needs_background": "light"
     },
     "output_type": "display_data"
    }
   ],
   "source": [
    "x = np.linspace(0,10,100)\n",
    "\n",
    "pdf = norm_rv1.pdf(x)\n",
    "plt.plot(x, pdf)\n",
    "\n",
    "pdf = norm_rv2.pdf(x)\n",
    "plt.plot(x, pdf)\n",
    "\n",
    "pdf = norm_rv3.pdf(x)\n",
    "plt.plot(x, pdf)\n",
    "\n",
    "pdf = norm_rv4.pdf(x)\n",
    "plt.plot(x, pdf)\n",
    "\n",
    "pdf = norm_rv5.pdf(x)\n",
    "plt.plot(x, pdf)\n",
    "\n",
    "plt.ylabel('$f(x)$')\n",
    "plt.xlabel('$x$')"
   ]
  },
  {
   "cell_type": "markdown",
   "metadata": {},
   "source": [
    "##### Экспоненциальное распредление"
   ]
  },
  {
   "cell_type": "code",
   "execution_count": 17,
   "metadata": {},
   "outputs": [
    {
     "data": {
      "text/plain": [
       "array([1.2524338 , 1.16079459, 0.6004242 , 2.62084139, 1.94165982,\n",
       "       0.25719854, 1.37069704, 1.152455  , 0.20926785, 0.80541377])"
      ]
     },
     "execution_count": 17,
     "metadata": {},
     "output_type": "execute_result"
    }
   ],
   "source": [
    "# функция 1\n",
    "lam1 = 0.1\n",
    "\n",
    "expon_rv1 = sts.expon(lam1)\n",
    "\n",
    "expon_rv1.rvs(10)"
   ]
  },
  {
   "cell_type": "code",
   "execution_count": 18,
   "metadata": {},
   "outputs": [
    {
     "data": {
      "text/plain": [
       "array([2.57086792, 1.52240876, 0.9903334 , 1.37733853, 1.06665965,\n",
       "       0.58243301, 1.011897  , 2.9124077 , 0.96724619, 0.56607888])"
      ]
     },
     "execution_count": 18,
     "metadata": {},
     "output_type": "execute_result"
    }
   ],
   "source": [
    "# функция 2\n",
    "lam2 = 0.5\n",
    "\n",
    "expon_rv2 = sts.expon(lam2)\n",
    "\n",
    "expon_rv2.rvs(10)"
   ]
  },
  {
   "cell_type": "code",
   "execution_count": 19,
   "metadata": {},
   "outputs": [
    {
     "data": {
      "text/plain": [
       "array([3.00658711, 1.09380554, 2.93111033, 1.89967699, 1.02472745,\n",
       "       1.60133498, 1.01435371, 1.15190215, 1.04089619, 1.00340541])"
      ]
     },
     "execution_count": 19,
     "metadata": {},
     "output_type": "execute_result"
    }
   ],
   "source": [
    "# функция 3\n",
    "lam3 = 1.0\n",
    "\n",
    "expon_rv3 = sts.expon(lam3)\n",
    "\n",
    "expon_rv3.rvs(10)"
   ]
  },
  {
   "cell_type": "code",
   "execution_count": 20,
   "metadata": {},
   "outputs": [
    {
     "data": {
      "text/plain": [
       "array([2.27739053, 2.89231041, 2.0466023 , 1.60943988, 2.51511178,\n",
       "       2.56938102, 4.06808756, 2.58155878, 1.65961811, 1.61596951])"
      ]
     },
     "execution_count": 20,
     "metadata": {},
     "output_type": "execute_result"
    }
   ],
   "source": [
    "# функция 4\n",
    "lam4 = 1.5\n",
    "\n",
    "expon_rv4 = sts.expon(lam4)\n",
    "\n",
    "expon_rv4.rvs(10)"
   ]
  },
  {
   "cell_type": "code",
   "execution_count": 21,
   "metadata": {},
   "outputs": [
    {
     "data": {
      "text/plain": [
       "array([3.50569484, 2.1161612 , 3.53927715, 2.03871443, 2.89584958,\n",
       "       5.41636541, 2.90875585, 5.69327314, 4.60382051, 2.45484313])"
      ]
     },
     "execution_count": 21,
     "metadata": {},
     "output_type": "execute_result"
    }
   ],
   "source": [
    "# функция 5\n",
    "lam5 = 2.0\n",
    "\n",
    "expon_rv5 = sts.expon(lam5)\n",
    "\n",
    "expon_rv5.rvs(10)"
   ]
  },
  {
   "cell_type": "code",
   "execution_count": 22,
   "metadata": {},
   "outputs": [
    {
     "data": {
      "text/plain": [
       "Text(0.5, 0, '$x$')"
      ]
     },
     "execution_count": 22,
     "metadata": {},
     "output_type": "execute_result"
    },
    {
     "data": {
      "image/png": "[encoded data removed]",
      "text/plain": [
       "<Figure size 432x288 with 1 Axes>"
      ]
     },
     "metadata": {
      "needs_background": "light"
     },
     "output_type": "display_data"
    }
   ],
   "source": [
    "x = np.linspace(0,5,100)\n",
    "\n",
    "plt.plot(x, expon_rv1.cdf(x))\n",
    "plt.plot(x, expon_rv2.cdf(x))\n",
    "plt.plot(x, expon_rv3.cdf(x))\n",
    "plt.plot(x, expon_rv4.cdf(x))\n",
    "plt.plot(x, expon_rv5.cdf(x))\n",
    "\n",
    "plt.ylabel('$F(x)$')\n",
    "plt.xlabel('$x$')\n"
   ]
  },
  {
   "cell_type": "code",
   "execution_count": 23,
   "metadata": {},
   "outputs": [
    {
     "data": {
      "text/plain": [
       "Text(0.5, 0, '$x$')"
      ]
     },
     "execution_count": 23,
     "metadata": {},
     "output_type": "execute_result"
    },
    {
     "data": {
      "image/png": "[encoded data removed]",
      "text/plain": [
       "<Figure size 432x288 with 1 Axes>"
      ]
     },
     "metadata": {
      "needs_background": "light"
     },
     "output_type": "display_data"
    }
   ],
   "source": [
    "x = np.linspace(0,5,1000)\n",
    "\n",
    "plt.plot(x, expon_rv1.pdf(x))\n",
    "plt.plot(x, expon_rv2.pdf(x))\n",
    "plt.plot(x, expon_rv3.pdf(x))\n",
    "plt.plot(x, expon_rv4.pdf(x))\n",
    "plt.plot(x, expon_rv5.pdf(x))\n",
    "\n",
    "plt.ylabel('$f(x)$')\n",
    "plt.xlabel('$x$')\n"
   ]
  },
  {
   "cell_type": "markdown",
   "metadata": {},
   "source": [
    "##### Распределение Стьюдента"
   ]
  },
  {
   "cell_type": "code",
   "execution_count": 24,
   "metadata": {},
   "outputs": [
    {
     "data": {
      "text/plain": [
       "array([ 1.16318038,  0.45610618, -0.16439363,  0.05108713,  6.33944056,\n",
       "       -0.02896343,  0.09485886,  0.87265967,  0.75324027,  1.47141018])"
      ]
     },
     "execution_count": 24,
     "metadata": {},
     "output_type": "execute_result"
    }
   ],
   "source": [
    "n1 = 1\n",
    "\n",
    "t_rv1 = sts.t(n1)\n",
    "\n",
    "t_rv1.rvs(10)"
   ]
  },
  {
   "cell_type": "code",
   "execution_count": 25,
   "metadata": {},
   "outputs": [
    {
     "data": {
      "text/plain": [
       "array([ 2.13047346,  0.0763513 ,  3.04857905, -2.62106457, -0.37895225,\n",
       "       -1.17252676,  3.50662579, -0.23766102, -0.39371374, -3.50453323])"
      ]
     },
     "execution_count": 25,
     "metadata": {},
     "output_type": "execute_result"
    }
   ],
   "source": [
    "n2 = 5\n",
    "\n",
    "t_rv2 = sts.t(n2)\n",
    "\n",
    "t_rv2.rvs(10)"
   ]
  },
  {
   "cell_type": "code",
   "execution_count": 26,
   "metadata": {},
   "outputs": [
    {
     "data": {
      "text/plain": [
       "array([-0.07240113, -1.60161497,  0.40552305,  0.83346335, -0.66181179,\n",
       "        1.31155279,  2.17839036,  1.97072212,  0.16570093,  0.96288445])"
      ]
     },
     "execution_count": 26,
     "metadata": {},
     "output_type": "execute_result"
    }
   ],
   "source": [
    "n3 = 10\n",
    "\n",
    "t_rv3 = sts.t(n3)\n",
    "\n",
    "t_rv3.rvs(10)"
   ]
  },
  {
   "cell_type": "code",
   "execution_count": 27,
   "metadata": {},
   "outputs": [
    {
     "data": {
      "text/plain": [
       "array([-0.13091513,  0.78526558, -1.68443134,  1.85232259, -0.99243987,\n",
       "       -0.05675443, -0.2729732 ,  1.13486306,  0.28804629, -0.25104718])"
      ]
     },
     "execution_count": 27,
     "metadata": {},
     "output_type": "execute_result"
    }
   ],
   "source": [
    "n4 = 15\n",
    "\n",
    "t_rv4 = sts.t(n4)\n",
    "\n",
    "t_rv4.rvs(10)"
   ]
  },
  {
   "cell_type": "code",
   "execution_count": 28,
   "metadata": {},
   "outputs": [
    {
     "data": {
      "text/plain": [
       "array([ 0.47104396,  0.33936702, -1.36331195,  1.41421844,  0.67444563,\n",
       "       -1.3852752 , -0.4582404 ,  1.90510458, -0.08400071,  0.2174381 ])"
      ]
     },
     "execution_count": 28,
     "metadata": {},
     "output_type": "execute_result"
    }
   ],
   "source": [
    "n5 = 20\n",
    "\n",
    "t_rv5 = sts.t(n5)\n",
    "\n",
    "t_rv5.rvs(10)"
   ]
  },
  {
   "cell_type": "code",
   "execution_count": 29,
   "metadata": {},
   "outputs": [
    {
     "data": {
      "image/png": "[encoded data removed]",
      "text/plain": [
       "<Figure size 432x288 with 1 Axes>"
      ]
     },
     "metadata": {
      "needs_background": "light"
     },
     "output_type": "display_data"
    }
   ],
   "source": [
    "x = np.linspace(-5,5,100)\n",
    "\n",
    "cdf = t_rv1.cdf(x)\n",
    "plt.plot(x, cdf)\n",
    "\n",
    "cdf = t_rv2.cdf(x)\n",
    "plt.plot(x, cdf)\n",
    "\n",
    "cdf = t_rv3.cdf(x)\n",
    "plt.plot(x, cdf)\n",
    "\n",
    "cdf = t_rv4.cdf(x)\n",
    "plt.plot(x, cdf)\n",
    "\n",
    "cdf = t_rv5.cdf(x)\n",
    "plt.plot(x, cdf)\n",
    "\n",
    "plt.ylabel('$F(x)$')\n",
    "plt.xlabel('$x$')\n",
    "plt.show()"
   ]
  },
  {
   "cell_type": "code",
   "execution_count": 30,
   "metadata": {},
   "outputs": [
    {
     "data": {
      "image/png": "[encoded data removed]",
      "text/plain": [
       "<Figure size 432x288 with 1 Axes>"
      ]
     },
     "metadata": {
      "needs_background": "light"
     },
     "output_type": "display_data"
    }
   ],
   "source": [
    "x = np.linspace(-5,5,100)\n",
    "\n",
    "pdf = t_rv1.pdf(x)\n",
    "plt.plot(x, pdf)\n",
    "\n",
    "pdf = t_rv2.pdf(x)\n",
    "plt.plot(x, pdf)\n",
    "\n",
    "pdf = t_rv3.pdf(x)\n",
    "plt.plot(x, pdf)\n",
    "\n",
    "pdf = t_rv4.pdf(x)\n",
    "plt.plot(x, pdf)\n",
    "\n",
    "pdf = t_rv5.pdf(x)\n",
    "plt.plot(x, pdf)\n",
    "\n",
    "plt.ylabel('$f(x)$')\n",
    "plt.xlabel('$x$')\n",
    "plt.show()"
   ]
  },
  {
   "cell_type": "markdown",
   "metadata": {
    "id": "Y_VK7nODgjew"
   },
   "source": [
    "## Уровень 1:"
   ]
  },
  {
   "cell_type": "markdown",
   "metadata": {
    "id": "bERZ4fYMgjg1"
   },
   "source": [
    "#### Задание 2"
   ]
  },
  {
   "cell_type": "markdown",
   "metadata": {
    "id": "MIqTa8B0gji6"
   },
   "source": [
    "Непрерывная случайная величина задана плотностью распределения:$$ f(\\xi) = C, \\xi \\in [0;5];f(\\xi) = 0, \\xi \\notin [0;5]$$Найдите C, математическое ожидание $\\xi$ а также вероятность попадания  в отрезок $[3.5;7]$, т.е. P(3.5 &lt; $\\xi$ &lt; 7)."
   ]
  },
  {
   "cell_type": "code",
   "execution_count": 31,
   "metadata": {},
   "outputs": [
    {
     "data": {
      "text/plain": [
       "array([2.75129508, 0.60441754, 0.53138862, 4.51061977, 1.38389319,\n",
       "       1.31701207, 3.44975467, 3.327511  , 0.29126411, 4.84067586])"
      ]
     },
     "execution_count": 31,
     "metadata": {},
     "output_type": "execute_result"
    }
   ],
   "source": [
    "a = 0\n",
    "b = 5\n",
    "\n",
    "uniform_rv = sts.uniform(a, b-a)\n",
    "\n",
    "uniform_rv.rvs(10)"
   ]
  },
  {
   "cell_type": "code",
   "execution_count": 32,
   "metadata": {},
   "outputs": [
    {
     "data": {
      "image/png": "[encoded data removed]",
      "text/plain": [
       "<Figure size 432x288 with 1 Axes>"
      ]
     },
     "metadata": {
      "needs_background": "light"
     },
     "output_type": "display_data"
    }
   ],
   "source": [
    "x = np.linspace(-3,8,250)\n",
    "pdf = uniform_rv.pdf(x)\n",
    "plt.plot(x, pdf)\n",
    "\n",
    "plt.ylabel('$f(x)$')\n",
    "plt.xlabel('$x$')\n",
    "plt.show()"
   ]
  },
  {
   "cell_type": "markdown",
   "metadata": {},
   "source": [
    "- С = 1/5 = 0.2 \n",
    "- матожидание: рассмотрим отрезок [0;5], заметим, что вероятность на данном отрезке равномерно распределена, следовательно матожидание равно (5-0)/2 = 2.5 \n",
    "- Вероятность попадания в отрезок [3.5; 7] равна (5-3.5)*С = 30%"
   ]
  },
  {
   "cell_type": "markdown",
   "metadata": {
    "id": "8h9Agrz6gjkn"
   },
   "source": [
    "#### Задание 3\n"
   ]
  },
  {
   "cell_type": "markdown",
   "metadata": {
    "id": "nLmtrsxkgUJQ"
   },
   "source": [
    "Известно, что светофор горит 54 секунды красным, 4 секунды жёлтым и 28 секунд зелёным. Посчитайте, какое количество информации несёт сообщение о цвете светофора в текущий момент. А что будет в случае 28, 28 и 28 секунд для каждого цвета?"
   ]
  },
  {
   "cell_type": "code",
   "execution_count": 37,
   "metadata": {},
   "outputs": [
    {
     "name": "stdout",
     "output_type": "stream",
     "text": [
      "Количество информации несёт сообщение о цвете светофора в текущий момент:  1.154522162441165\n"
     ]
    }
   ],
   "source": [
    "red = 54\n",
    "yellow = 4\n",
    "green = 28\n",
    "\n",
    "N = red + yellow + green\n",
    "p1= red/N\n",
    "p2 = yellow/N\n",
    "p3 = green/N\n",
    "\n",
    "\n",
    "I = - (p1*np.log2(p1) + p2*np.log2(p2) + p3*np.log2(p3))\n",
    "\n",
    "print('Количество информации несёт сообщение о цвете светофора в текущий момент: ', I)"
   ]
  },
  {
   "cell_type": "code",
   "execution_count": 38,
   "metadata": {},
   "outputs": [
    {
     "name": "stdout",
     "output_type": "stream",
     "text": [
      "Количество информации несёт сообщение о цвете светофора в текущий момент:  1.584962500721156\n"
     ]
    }
   ],
   "source": [
    "red = 28\n",
    "yellow = 28\n",
    "green = 28\n",
    "\n",
    "N = red + yellow + green\n",
    "p1= red/N\n",
    "p2 = yellow/N\n",
    "p3 = green/N\n",
    "\n",
    "\n",
    "I = - (p1*np.log2(p1) + p2*np.log2(p2) + p3*np.log2(p3))\n",
    "\n",
    "print('Количество информации несёт сообщение о цвете светофора в текущий момент: ', I)"
   ]
  },
  {
   "cell_type": "code",
   "execution_count": null,
   "metadata": {},
   "outputs": [],
   "source": []
  }
 ],
 "metadata": {
  "colab": {
   "collapsed_sections": [],
   "name": "HW_8",
   "provenance": []
  },
  "kernelspec": {
   "display_name": "Python 3",
   "language": "python",
   "name": "python3"
  },
  "language_info": {
   "codemirror_mode": {
    "name": "ipython",
    "version": 3
   },
   "file_extension": ".py",
   "mimetype": "text/x-python",
   "name": "python",
   "nbconvert_exporter": "python",
   "pygments_lexer": "ipython3",
   "version": "3.8.5"
  }
 },
 "nbformat": 4,
 "nbformat_minor": 1
}
