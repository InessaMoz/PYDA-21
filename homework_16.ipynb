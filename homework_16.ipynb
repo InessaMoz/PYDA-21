{
 "cells": [
  {
   "cell_type": "markdown",
   "metadata": {},
   "source": [
    "## Случайные величины\n",
    "Смоделировать игру против лотерейного автомата типа \"777\". Игрок платит 1 руб., после чего выпадает случайное целое число, равномерно распределенное от 0 до 999. При некоторых значениях числа игрок получает выигрыш:\n",
    "- 777: 200 руб.\n",
    "- 999: 100 руб.\n",
    "- 555: 50 руб.\n",
    "- 333: 15 руб.\n",
    "- 111: 10 руб.\n",
    "- *77: 5 руб.\n",
    "- **7: 3 руб.\n",
    "- *00: 2 руб.\n",
    "- **0: 1 руб.\n",
    "\n",
    " '*' - любая цифра"
   ]
  },
  {
   "cell_type": "code",
   "execution_count": 1,
   "metadata": {},
   "outputs": [],
   "source": [
    "import numpy as np"
   ]
  },
  {
   "cell_type": "code",
   "execution_count": 248,
   "metadata": {},
   "outputs": [
    {
     "name": "stdout",
     "output_type": "stream",
     "text": [
      "количество побед: 212\n",
      "доход: 75\n",
      "количество попыток: 1000\n",
      "процент выигрышей: 21.2%\n"
     ]
    }
   ],
   "source": [
    "trials = 1000    # Количество попыток\n",
    "successes = 0    # Количество побед\n",
    "winsum = 0       # Сумма выигрыша\n",
    "\n",
    "data = {'777':200, '999':100, '555':50, '333':15, '111':10, '77':5, '7':3, '00':2, '0':1}\n",
    "l = 3 # длина числа\n",
    "\n",
    "for i in range(trials):\n",
    "    for i in range(l): random_score += str(np.random.randint(0, 10)) # Случайное количество очков\n",
    "        \n",
    "    for i in range(l):\n",
    "        if random_score[i-1:] in data.keys():\n",
    "            successes += 1\n",
    "            winsum += data[random_score[i-1:]]\n",
    "    random_score = ''\n",
    "        \n",
    "p_monte_carlo = round(successes / trials, 3) #Вероятность из моделирования\n",
    "\n",
    "print(\"количество побед: \" + str(successes) + '\\n' + \"доход: \" + str(winsum - trials) + '\\n' + \"количество попыток: \" + str(trials) + '\\n' + \"процент выигрышей: \" + str(p_monte_carlo*100) + \"%\")"
   ]
  },
  {
   "cell_type": "code",
   "execution_count": null,
   "metadata": {},
   "outputs": [],
   "source": []
  }
 ],
 "metadata": {
  "kernelspec": {
   "display_name": "Python 3",
   "language": "python",
   "name": "python3"
  },
  "language_info": {
   "codemirror_mode": {
    "name": "ipython",
    "version": 3
   },
   "file_extension": ".py",
   "mimetype": "text/x-python",
   "name": "python",
   "nbconvert_exporter": "python",
   "pygments_lexer": "ipython3",
   "version": "3.8.5"
  }
 },
 "nbformat": 4,
 "nbformat_minor": 4
}
