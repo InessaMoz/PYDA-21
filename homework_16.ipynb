{
 "cells": [
  {
   "cell_type": "markdown",
   "metadata": {},
   "source": [
    "## Случайные величины\n",
    "Смоделировать игру против лотерейного автомата типа \"777\". Игрок платит 1 руб., после чего выпадает случайное целое число, равномерно распределенное от 0 до 999. При некоторых значениях числа игрок получает выигрыш:\n",
    "- 777: 200 руб.\n",
    "- 999: 100 руб.\n",
    "- 555: 50 руб.\n",
    "- 333: 15 руб.\n",
    "- 111: 10 руб.\n",
    "- *77: 5 руб.\n",
    "- **7: 3 руб.\n",
    "- *00: 2 руб.\n",
    "- **0: 1 руб.\n",
    "\n",
    " '*' - любая цифра"
   ]
  },
  {
   "cell_type": "code",
   "execution_count": 1,
   "metadata": {},
   "outputs": [],
   "source": [
    "import numpy as np"
   ]
  },
  {
   "cell_type": "code",
   "execution_count": 16,
   "metadata": {},
   "outputs": [
    {
     "name": "stdout",
     "output_type": "stream",
     "text": [
      "выигрышных чисел: 204\n",
      "общая сумма выигрыша: 800\n"
     ]
    }
   ],
   "source": [
    "# Найдем количество выигрышных чисел от 0 до 999\n",
    "\n",
    "k = 0            # выигрышное число\n",
    "winsum = 0       # сумма выигрыша\n",
    "\n",
    "for i in range(0, 1000):\n",
    "    if i == 777:\n",
    "        k += 1\n",
    "        winsum += 200\n",
    "    elif i == 999:\n",
    "        k += 1\n",
    "        winsum += 100     \n",
    "    elif i == 555:\n",
    "        k += 1\n",
    "        winsum += 50\n",
    "    elif i == 333:\n",
    "        k += 1\n",
    "        winsum += 15\n",
    "    elif i == 111:\n",
    "        k += 1\n",
    "        winsum += 10\n",
    "    elif i % 100 == 77:\n",
    "        k += 1\n",
    "        winsum += 5\n",
    "    elif i % 100 == 0:\n",
    "        k += 1\n",
    "        winsum += 2    \n",
    "    elif i % 10 == 7:\n",
    "        k += 1\n",
    "        winsum += 3\n",
    "    elif i % 10 == 0:\n",
    "        k += 1\n",
    "        winsum += 1    \n",
    "    \n",
    "print('выигрышных чисел: ' + str(k) +'\\n' + 'общая сумма выигрыша: ' + str(winsum))   "
   ]
  },
  {
   "cell_type": "markdown",
   "metadata": {},
   "source": [
    "#### Вариант 1"
   ]
  },
  {
   "cell_type": "code",
   "execution_count": 19,
   "metadata": {},
   "outputs": [
    {
     "name": "stdout",
     "output_type": "stream",
     "text": [
      "количество попыток: 1000000\n",
      "количество побед: 224825\n",
      "доход: -164730\n",
      "процент выигрышей: 22.5%\n",
      "теоретический процент выигрышей: 20.4%\n"
     ]
    }
   ],
   "source": [
    "trials = 1000000   # Количество попыток\n",
    "successes = 0    # Количество побед\n",
    "winsum = 0       # Сумма выигрыша\n",
    "\n",
    "data = {'777':200, '999':100, '555':50, '333':15, '111':10, '77':5, '7':3, '00':2, '0':1}\n",
    "l = 3 # длина числа\n",
    "\n",
    "for i in range(trials):\n",
    "    random_score = ''\n",
    "    for i in range(l): random_score += str(np.random.randint(0, 10)) # Случайное количество очков\n",
    "        \n",
    "    for i in range(l):\n",
    "        if random_score[i-1:] in data.keys():\n",
    "            successes += 1\n",
    "            winsum += data[random_score[i-1:]]\n",
    "   \n",
    "        \n",
    "p_monte_carlo = round(successes / trials, 3) # Вероятность из моделирования\n",
    "p = 204 / 1000                               # Теоретическая вероятность (количество выигрышных чисел из всех чисел от 0 до 999)\n",
    "\n",
    "print(\"количество попыток: \" + str(trials) + '\\n' + \"количество побед: \" + str(successes) + '\\n' + \"доход: \" + str(winsum - trials)  + '\\n' + \"процент выигрышей: \" + str(p_monte_carlo*100) + \"%\" + '\\n' + \"теоретический процент выигрышей: \" + str(p*100) + \"%\")"
   ]
  },
  {
   "cell_type": "markdown",
   "metadata": {},
   "source": [
    "#### Вариант 2"
   ]
  },
  {
   "cell_type": "code",
   "execution_count": 18,
   "metadata": {},
   "outputs": [
    {
     "name": "stdout",
     "output_type": "stream",
     "text": [
      "количество попыток: 1000000\n",
      "количество побед: 200004\n",
      "доход: -569630\n",
      "процент выигрышей: 20.0004%\n",
      "теоретический процент выигрышей: 20.4%\n"
     ]
    }
   ],
   "source": [
    "trials = 1000000    # Количество попыток\n",
    "successes = 0    # Количество успехов\n",
    "winsum = 0       # сумма выигрыша\n",
    "\n",
    "\n",
    "for i in range(trials):\n",
    "    random_score = np.random.randint(1, 1000)\n",
    "    \n",
    "    if i == 777:\n",
    "        successes += 1\n",
    "        winsum += 200\n",
    "    elif i == 999:\n",
    "        successes += 1\n",
    "        winsum += 100     \n",
    "    elif i == 555:\n",
    "        successes += 1\n",
    "        winsum += 50\n",
    "    elif i == 333:\n",
    "        successes += 1\n",
    "        winsum += 15\n",
    "    elif i == 111:\n",
    "        successes += 1\n",
    "        winsum += 10\n",
    "    elif i % 100 == 77:\n",
    "        successes += 1\n",
    "        winsum += 5\n",
    "    elif i % 100 == 0:\n",
    "        successes += 1\n",
    "        winsum += 2    \n",
    "    elif i % 10 == 7:\n",
    "        successes += 1\n",
    "        winsum += 3\n",
    "    elif i % 10 == 0:\n",
    "        successes += 1\n",
    "        winsum += 1    \n",
    "        \n",
    "p_monte_carlo = successes / trials    # Вероятность из моделирования\n",
    "p = 204 / 1000                        # Теоретическая вероятность (количество выигрышных чисел из всех чисел от 0 до 999)\n",
    "    \n",
    "print(\"количество попыток: \" + str(trials) + '\\n' + \"количество побед: \" + str(successes) + '\\n' + \"доход: \" + str(winsum - trials)  + '\\n' + \"процент выигрышей: \" + str(p_monte_carlo*100) + \"%\" + '\\n' + \"теоретический процент выигрышей: \" + str(p*100) + \"%\")"
   ]
  },
  {
   "cell_type": "code",
   "execution_count": null,
   "metadata": {},
   "outputs": [],
   "source": []
  }
 ],
 "metadata": {
  "kernelspec": {
   "display_name": "Python 3",
   "language": "python",
   "name": "python3"
  },
  "language_info": {
   "codemirror_mode": {
    "name": "ipython",
    "version": 3
   },
   "file_extension": ".py",
   "mimetype": "text/x-python",
   "name": "python",
   "nbconvert_exporter": "python",
   "pygments_lexer": "ipython3",
   "version": "3.8.5"
  }
 },
 "nbformat": 4,
 "nbformat_minor": 4
}
