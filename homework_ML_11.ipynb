{
 "cells": [
  {
   "cell_type": "markdown",
   "metadata": {},
   "source": [
    "### Домашнее задание по теме «Ансамблирование»\n",
    "\n",
    "1. Теперь решаем задачу регрессии - предскажем цены на недвижимость. Использовать датасет www.kaggle.com...iques/data (train.csv)\n",
    "2. Построить случайный лес, вывести важность признаков\n",
    "3. Обучить стекинг как минимум 3х моделей, использовать хотя бы 1 линейную модель и 1 нелинейную\n",
    "4. В качестве решения: Jupyter notebook с кодом, комментариями и графиками"
   ]
  },
  {
   "cell_type": "code",
   "execution_count": 1,
   "metadata": {},
   "outputs": [],
   "source": [
    "import pandas as pd\n",
    "import numpy as np\n",
    "from sklearn.ensemble import RandomForestRegressor\n",
    "from sklearn.model_selection import train_test_split\n",
    "from matplotlib import pyplot as plt\n",
    "from sklearn.model_selection import GridSearchCV\n",
    "from sklearn.metrics import make_scorer\n",
    "from sklearn.metrics import r2_score\n",
    "from sklearn.model_selection import ShuffleSplit"
   ]
  },
  {
   "cell_type": "code",
   "execution_count": 2,
   "metadata": {},
   "outputs": [],
   "source": [
    " data = pd.read_csv('C:\\\\Users\\\\2-hom\\\\Documents\\\\Data_analysis\\\\Машинное обучение\\\\Занятие_11\\\\train.csv')"
   ]
  },
  {
   "cell_type": "code",
   "execution_count": 3,
   "metadata": {},
   "outputs": [
    {
     "data": {
      "text/html": [
       "<div>\n",
       "<style scoped>\n",
       "    .dataframe tbody tr th:only-of-type {\n",
       "        vertical-align: middle;\n",
       "    }\n",
       "\n",
       "    .dataframe tbody tr th {\n",
       "        vertical-align: top;\n",
       "    }\n",
       "\n",
       "    .dataframe thead th {\n",
       "        text-align: right;\n",
       "    }\n",
       "</style>\n",
       "<table border=\"1\" class=\"dataframe\">\n",
       "  <thead>\n",
       "    <tr style=\"text-align: right;\">\n",
       "      <th></th>\n",
       "      <th>Id</th>\n",
       "      <th>MSSubClass</th>\n",
       "      <th>MSZoning</th>\n",
       "      <th>LotFrontage</th>\n",
       "      <th>LotArea</th>\n",
       "      <th>Street</th>\n",
       "      <th>Alley</th>\n",
       "      <th>LotShape</th>\n",
       "      <th>LandContour</th>\n",
       "      <th>Utilities</th>\n",
       "      <th>...</th>\n",
       "      <th>PoolArea</th>\n",
       "      <th>PoolQC</th>\n",
       "      <th>Fence</th>\n",
       "      <th>MiscFeature</th>\n",
       "      <th>MiscVal</th>\n",
       "      <th>MoSold</th>\n",
       "      <th>YrSold</th>\n",
       "      <th>SaleType</th>\n",
       "      <th>SaleCondition</th>\n",
       "      <th>SalePrice</th>\n",
       "    </tr>\n",
       "  </thead>\n",
       "  <tbody>\n",
       "    <tr>\n",
       "      <th>0</th>\n",
       "      <td>1</td>\n",
       "      <td>60</td>\n",
       "      <td>RL</td>\n",
       "      <td>65.0</td>\n",
       "      <td>8450</td>\n",
       "      <td>Pave</td>\n",
       "      <td>NaN</td>\n",
       "      <td>Reg</td>\n",
       "      <td>Lvl</td>\n",
       "      <td>AllPub</td>\n",
       "      <td>...</td>\n",
       "      <td>0</td>\n",
       "      <td>NaN</td>\n",
       "      <td>NaN</td>\n",
       "      <td>NaN</td>\n",
       "      <td>0</td>\n",
       "      <td>2</td>\n",
       "      <td>2008</td>\n",
       "      <td>WD</td>\n",
       "      <td>Normal</td>\n",
       "      <td>208500</td>\n",
       "    </tr>\n",
       "    <tr>\n",
       "      <th>1</th>\n",
       "      <td>2</td>\n",
       "      <td>20</td>\n",
       "      <td>RL</td>\n",
       "      <td>80.0</td>\n",
       "      <td>9600</td>\n",
       "      <td>Pave</td>\n",
       "      <td>NaN</td>\n",
       "      <td>Reg</td>\n",
       "      <td>Lvl</td>\n",
       "      <td>AllPub</td>\n",
       "      <td>...</td>\n",
       "      <td>0</td>\n",
       "      <td>NaN</td>\n",
       "      <td>NaN</td>\n",
       "      <td>NaN</td>\n",
       "      <td>0</td>\n",
       "      <td>5</td>\n",
       "      <td>2007</td>\n",
       "      <td>WD</td>\n",
       "      <td>Normal</td>\n",
       "      <td>181500</td>\n",
       "    </tr>\n",
       "    <tr>\n",
       "      <th>2</th>\n",
       "      <td>3</td>\n",
       "      <td>60</td>\n",
       "      <td>RL</td>\n",
       "      <td>68.0</td>\n",
       "      <td>11250</td>\n",
       "      <td>Pave</td>\n",
       "      <td>NaN</td>\n",
       "      <td>IR1</td>\n",
       "      <td>Lvl</td>\n",
       "      <td>AllPub</td>\n",
       "      <td>...</td>\n",
       "      <td>0</td>\n",
       "      <td>NaN</td>\n",
       "      <td>NaN</td>\n",
       "      <td>NaN</td>\n",
       "      <td>0</td>\n",
       "      <td>9</td>\n",
       "      <td>2008</td>\n",
       "      <td>WD</td>\n",
       "      <td>Normal</td>\n",
       "      <td>223500</td>\n",
       "    </tr>\n",
       "    <tr>\n",
       "      <th>3</th>\n",
       "      <td>4</td>\n",
       "      <td>70</td>\n",
       "      <td>RL</td>\n",
       "      <td>60.0</td>\n",
       "      <td>9550</td>\n",
       "      <td>Pave</td>\n",
       "      <td>NaN</td>\n",
       "      <td>IR1</td>\n",
       "      <td>Lvl</td>\n",
       "      <td>AllPub</td>\n",
       "      <td>...</td>\n",
       "      <td>0</td>\n",
       "      <td>NaN</td>\n",
       "      <td>NaN</td>\n",
       "      <td>NaN</td>\n",
       "      <td>0</td>\n",
       "      <td>2</td>\n",
       "      <td>2006</td>\n",
       "      <td>WD</td>\n",
       "      <td>Abnorml</td>\n",
       "      <td>140000</td>\n",
       "    </tr>\n",
       "    <tr>\n",
       "      <th>4</th>\n",
       "      <td>5</td>\n",
       "      <td>60</td>\n",
       "      <td>RL</td>\n",
       "      <td>84.0</td>\n",
       "      <td>14260</td>\n",
       "      <td>Pave</td>\n",
       "      <td>NaN</td>\n",
       "      <td>IR1</td>\n",
       "      <td>Lvl</td>\n",
       "      <td>AllPub</td>\n",
       "      <td>...</td>\n",
       "      <td>0</td>\n",
       "      <td>NaN</td>\n",
       "      <td>NaN</td>\n",
       "      <td>NaN</td>\n",
       "      <td>0</td>\n",
       "      <td>12</td>\n",
       "      <td>2008</td>\n",
       "      <td>WD</td>\n",
       "      <td>Normal</td>\n",
       "      <td>250000</td>\n",
       "    </tr>\n",
       "  </tbody>\n",
       "</table>\n",
       "<p>5 rows × 81 columns</p>\n",
       "</div>"
      ],
      "text/plain": [
       "   Id  MSSubClass MSZoning  LotFrontage  LotArea Street Alley LotShape  \\\n",
       "0   1          60       RL         65.0     8450   Pave   NaN      Reg   \n",
       "1   2          20       RL         80.0     9600   Pave   NaN      Reg   \n",
       "2   3          60       RL         68.0    11250   Pave   NaN      IR1   \n",
       "3   4          70       RL         60.0     9550   Pave   NaN      IR1   \n",
       "4   5          60       RL         84.0    14260   Pave   NaN      IR1   \n",
       "\n",
       "  LandContour Utilities  ... PoolArea PoolQC Fence MiscFeature MiscVal MoSold  \\\n",
       "0         Lvl    AllPub  ...        0    NaN   NaN         NaN       0      2   \n",
       "1         Lvl    AllPub  ...        0    NaN   NaN         NaN       0      5   \n",
       "2         Lvl    AllPub  ...        0    NaN   NaN         NaN       0      9   \n",
       "3         Lvl    AllPub  ...        0    NaN   NaN         NaN       0      2   \n",
       "4         Lvl    AllPub  ...        0    NaN   NaN         NaN       0     12   \n",
       "\n",
       "  YrSold  SaleType  SaleCondition  SalePrice  \n",
       "0   2008        WD         Normal     208500  \n",
       "1   2007        WD         Normal     181500  \n",
       "2   2008        WD         Normal     223500  \n",
       "3   2006        WD        Abnorml     140000  \n",
       "4   2008        WD         Normal     250000  \n",
       "\n",
       "[5 rows x 81 columns]"
      ]
     },
     "execution_count": 3,
     "metadata": {},
     "output_type": "execute_result"
    }
   ],
   "source": [
    "data.head()"
   ]
  },
  {
   "cell_type": "markdown",
   "metadata": {},
   "source": [
    "Описание файла\n",
    "* SalePrice - цена продажи недвижимости в долларах. Это целевая переменная, которую вы пытаетесь предсказать.\n",
    "* MSSubClass : класс здания\n",
    "* MSZoning : Общая классификация зонирования\n",
    "* LotFrontage : Линейные футы улицы, соединенной с недвижимостью\n",
    "* LotArea : Размер участка в квадратных футах.\n",
    "* Улица : Тип подъездной дороги\n",
    "* Аллея : Тип доступа к аллее\n",
    "* LotShape : Общая форма объекта\n",
    "* LandContour : Плоскостность участка\n",
    "* Утилиты : Тип доступных утилит\n",
    "* LotConfig : конфигурация лота\n",
    "* LandSlope : Уклон участка\n",
    "* Район : Физические местоположения в черте города Эймс.\n",
    "* Условие 1 : Близость к главной дороге или железной дороге\n",
    "* Условие 2 : близость к главной дороге или железной дороге (при наличии второй)\n",
    "* BldgType : Тип жилья\n",
    "* HouseStyle : стиль жилья\n",
    "* Общее качество : общее качество материала и отделки.\n",
    "* TotalCond : общая оценка состояния\n",
    "* Год постройки : Первоначальная дата постройки\n",
    "* YearRemodAdd : Дата ремоделирования\n",
    "* RoofStyle : Тип крыши\n",
    "* RoofMatl : Материал крыши\n",
    "* Exterior1st : Наружное покрытие дома\n",
    "* Exterior2nd : Внешнее покрытие дома (если более одного материала)\n",
    "* MasVnrType : Тип каменной кладки\n",
    "* MasVnrArea : Площадь каменной кладки в квадратных футах.\n",
    "* ExterQual : качество материалов экстерьера\n",
    "* ExterCond : Текущее состояние материала снаружи.\n",
    "* Фундамент : Тип фундамента\n",
    "* BsmtQual : Высота подвала\n",
    "* BsmtCond : Общее состояние подвала\n",
    "* BsmtExposure : Стены подвала на уровне сада или выхода.\n",
    "* BsmtFinType1 : Качество отделки цокольного этажа.\n",
    "* BsmtFinSF1 : тип 1 готовых квадратных футов\n",
    "* BsmtFinType2 : Качество второй готовой области (если присутствует)\n",
    "* BsmtFinSF2 : тип 2 готовых квадратных футов\n",
    "* BsmtUnfSF : Незавершенные квадратные футы подвального помещения.\n",
    "* TotalBsmtSF : Общая площадь подвала в квадратных футах.\n",
    "* Отопление : Тип отопления\n",
    "* ОтоплениеQC : Качество и состояние отопления\n",
    "* CentralAir : Центральное кондиционирование воздуха\n",
    "* Электрика : Электрическая система\n",
    "* 1stFlrSF : Квадратные футы первого этажа\n",
    "* 2ndFlrSF : Квадратные футы второго этажа.\n",
    "* LowQualFinSF : квадратные футы с отделкой низкого качества (все этажи)\n",
    "* GrLivArea : жилая площадь над землей в квадратных футах\n",
    "* BsmtFullBath : Ванные комнаты в подвале\n",
    "* BsmtHalfBath : Половина ванных комнат в подвале\n",
    "* FullBath : полностью оборудованные ванные комнаты выше уровня земли .\n",
    "* HalfBath : полуванны выше уровня земли .\n",
    "* Спальня : Количество спален над цокольным этажом\n",
    "* Кухня : Количество кухонь\n",
    "* KitchenQual : Качество кухни\n",
    "* TotRmsAbvGrd : Общее количество комнат выше класса (не включая ванные комнаты)\n",
    "* Функциональность : Рейтинг домашней функциональности\n",
    "* Камины : Количество каминов\n",
    "* FireplaceQu : Качество камина\n",
    "* Тип гаража : место в гараже\n",
    "* GarageYrBlt : Год постройки гаража.\n",
    "* GarageFinish : Внутренняя отделка гаража\n",
    "* GarageCars : Размер гаража по вместимости автомобиля\n",
    "* GarageArea : Размер гаража в квадратных футах.\n",
    "* GarageQual : качество гаража\n",
    "* GarageCond : Гаражное состояние\n",
    "* PavedDrive : Асфальтированная дорога\n",
    "* WoodDeckSF : площадь деревянной палубы в квадратных футах.\n",
    "* OpenPorchSF : площадь открытого крыльца в квадратных футах.\n",
    "* EnclosedPorch : закрытая площадь крыльца в квадратных футах.\n",
    "* 3SsnPorch : площадь крыльца для трех сезонов в квадратных футах.\n",
    "* ScreenPorch : Площадь крыльца экрана в квадратных футах.\n",
    "* PoolArea : площадь бассейна в квадратных футах.\n",
    "* PoolQC : качество пула\n",
    "* Забор : Качество забора\n",
    "* MiscFeature : Разная функция, не включенная в другие категории.\n",
    "* MiscVal : $Значение различных функций\n",
    "* MoSold : Месяц продажи\n",
    "* YrSold : Год продажи\n",
    "* SaleType : Тип продажи\n",
    "* SaleCondition : Состояние продажи"
   ]
  },
  {
   "cell_type": "code",
   "execution_count": 4,
   "metadata": {},
   "outputs": [],
   "source": [
    "#Разделяем на тренировочные и тестовые данные\n",
    "\n",
    "data_train, data_test, y_train, y_test = train_test_split(data.drop(columns='SalePrice'), data['SalePrice'], test_size=0.30, random_state=42)"
   ]
  },
  {
   "cell_type": "code",
   "execution_count": 5,
   "metadata": {},
   "outputs": [],
   "source": [
    "#Находим категориальные признаки\n",
    "\n",
    "categorials = list(data.dtypes[data.dtypes == object].index)\n",
    "\n",
    "categorials_nunique = data_train[categorials].nunique()\n",
    "\n",
    "#закодируем пропущенные значений строкой, факт пропущенного значения тоже может нести в себе информацию\n",
    "data[categorials] = data[categorials].fillna('nan')"
   ]
  },
  {
   "cell_type": "code",
   "execution_count": 6,
   "metadata": {},
   "outputs": [],
   "source": [
    "#отфильтруем непрерывные признаки\n",
    "integer = [f for f in data if f not in (categorials + ['ID', 'SalePrice'])]"
   ]
  },
  {
   "cell_type": "code",
   "execution_count": 7,
   "metadata": {},
   "outputs": [],
   "source": [
    "# Создаем дамми-переменные для категорий\n",
    "dummy_train = pd.get_dummies(data_train[categorials], columns=categorials)\n",
    "dummy_test = pd.get_dummies(data_test[categorials], columns=categorials)\n",
    "\n",
    "dummy_cols = list(set(dummy_train) & set(dummy_test))\n",
    "\n",
    "dummy_train = dummy_train[dummy_cols]\n",
    "dummy_test = dummy_test[dummy_cols]\n",
    "\n",
    "# Заменяем пропуски на специальное значение -999, чтобы деревья могли их отличить\n",
    "X_train = pd.concat([data_train[integer].fillna(-999), dummy_train], axis=1)\n",
    "\n",
    "X_test = pd.concat([data_test[integer].fillna(-999), dummy_test], axis=1)"
   ]
  },
  {
   "cell_type": "code",
   "execution_count": 8,
   "metadata": {},
   "outputs": [
    {
     "data": {
      "text/html": [
       "<div>\n",
       "<style scoped>\n",
       "    .dataframe tbody tr th:only-of-type {\n",
       "        vertical-align: middle;\n",
       "    }\n",
       "\n",
       "    .dataframe tbody tr th {\n",
       "        vertical-align: top;\n",
       "    }\n",
       "\n",
       "    .dataframe thead th {\n",
       "        text-align: right;\n",
       "    }\n",
       "</style>\n",
       "<table border=\"1\" class=\"dataframe\">\n",
       "  <thead>\n",
       "    <tr style=\"text-align: right;\">\n",
       "      <th></th>\n",
       "      <th>Id</th>\n",
       "      <th>MSSubClass</th>\n",
       "      <th>LotFrontage</th>\n",
       "      <th>LotArea</th>\n",
       "      <th>OverallQual</th>\n",
       "      <th>OverallCond</th>\n",
       "      <th>YearBuilt</th>\n",
       "      <th>YearRemodAdd</th>\n",
       "      <th>MasVnrArea</th>\n",
       "      <th>BsmtFinSF1</th>\n",
       "      <th>...</th>\n",
       "      <th>Foundation_CBlock</th>\n",
       "      <th>HeatingQC_TA</th>\n",
       "      <th>SaleType_ConLI</th>\n",
       "      <th>Electrical_FuseF</th>\n",
       "      <th>PoolQC_Gd</th>\n",
       "      <th>SaleCondition_Family</th>\n",
       "      <th>BsmtQual_TA</th>\n",
       "      <th>LotShape_Reg</th>\n",
       "      <th>BsmtFinType1_LwQ</th>\n",
       "      <th>LotConfig_Corner</th>\n",
       "    </tr>\n",
       "  </thead>\n",
       "  <tbody>\n",
       "    <tr>\n",
       "      <th>135</th>\n",
       "      <td>136</td>\n",
       "      <td>20</td>\n",
       "      <td>80.0</td>\n",
       "      <td>10400</td>\n",
       "      <td>7</td>\n",
       "      <td>6</td>\n",
       "      <td>1970</td>\n",
       "      <td>1970</td>\n",
       "      <td>288.0</td>\n",
       "      <td>0</td>\n",
       "      <td>...</td>\n",
       "      <td>0</td>\n",
       "      <td>0</td>\n",
       "      <td>0</td>\n",
       "      <td>0</td>\n",
       "      <td>0</td>\n",
       "      <td>0</td>\n",
       "      <td>1</td>\n",
       "      <td>1</td>\n",
       "      <td>0</td>\n",
       "      <td>0</td>\n",
       "    </tr>\n",
       "    <tr>\n",
       "      <th>1452</th>\n",
       "      <td>1453</td>\n",
       "      <td>180</td>\n",
       "      <td>35.0</td>\n",
       "      <td>3675</td>\n",
       "      <td>5</td>\n",
       "      <td>5</td>\n",
       "      <td>2005</td>\n",
       "      <td>2005</td>\n",
       "      <td>80.0</td>\n",
       "      <td>547</td>\n",
       "      <td>...</td>\n",
       "      <td>0</td>\n",
       "      <td>0</td>\n",
       "      <td>0</td>\n",
       "      <td>0</td>\n",
       "      <td>0</td>\n",
       "      <td>0</td>\n",
       "      <td>0</td>\n",
       "      <td>1</td>\n",
       "      <td>0</td>\n",
       "      <td>0</td>\n",
       "    </tr>\n",
       "    <tr>\n",
       "      <th>762</th>\n",
       "      <td>763</td>\n",
       "      <td>60</td>\n",
       "      <td>72.0</td>\n",
       "      <td>8640</td>\n",
       "      <td>7</td>\n",
       "      <td>5</td>\n",
       "      <td>2009</td>\n",
       "      <td>2009</td>\n",
       "      <td>0.0</td>\n",
       "      <td>24</td>\n",
       "      <td>...</td>\n",
       "      <td>0</td>\n",
       "      <td>0</td>\n",
       "      <td>0</td>\n",
       "      <td>0</td>\n",
       "      <td>0</td>\n",
       "      <td>0</td>\n",
       "      <td>0</td>\n",
       "      <td>1</td>\n",
       "      <td>0</td>\n",
       "      <td>0</td>\n",
       "    </tr>\n",
       "    <tr>\n",
       "      <th>932</th>\n",
       "      <td>933</td>\n",
       "      <td>20</td>\n",
       "      <td>84.0</td>\n",
       "      <td>11670</td>\n",
       "      <td>9</td>\n",
       "      <td>5</td>\n",
       "      <td>2006</td>\n",
       "      <td>2006</td>\n",
       "      <td>302.0</td>\n",
       "      <td>0</td>\n",
       "      <td>...</td>\n",
       "      <td>0</td>\n",
       "      <td>0</td>\n",
       "      <td>0</td>\n",
       "      <td>0</td>\n",
       "      <td>0</td>\n",
       "      <td>0</td>\n",
       "      <td>0</td>\n",
       "      <td>0</td>\n",
       "      <td>0</td>\n",
       "      <td>1</td>\n",
       "    </tr>\n",
       "    <tr>\n",
       "      <th>435</th>\n",
       "      <td>436</td>\n",
       "      <td>60</td>\n",
       "      <td>43.0</td>\n",
       "      <td>10667</td>\n",
       "      <td>7</td>\n",
       "      <td>6</td>\n",
       "      <td>1996</td>\n",
       "      <td>1996</td>\n",
       "      <td>0.0</td>\n",
       "      <td>385</td>\n",
       "      <td>...</td>\n",
       "      <td>0</td>\n",
       "      <td>0</td>\n",
       "      <td>0</td>\n",
       "      <td>0</td>\n",
       "      <td>0</td>\n",
       "      <td>0</td>\n",
       "      <td>0</td>\n",
       "      <td>0</td>\n",
       "      <td>0</td>\n",
       "      <td>0</td>\n",
       "    </tr>\n",
       "  </tbody>\n",
       "</table>\n",
       "<p>5 rows × 255 columns</p>\n",
       "</div>"
      ],
      "text/plain": [
       "        Id  MSSubClass  LotFrontage  LotArea  OverallQual  OverallCond  \\\n",
       "135    136          20         80.0    10400            7            6   \n",
       "1452  1453         180         35.0     3675            5            5   \n",
       "762    763          60         72.0     8640            7            5   \n",
       "932    933          20         84.0    11670            9            5   \n",
       "435    436          60         43.0    10667            7            6   \n",
       "\n",
       "      YearBuilt  YearRemodAdd  MasVnrArea  BsmtFinSF1  ...  Foundation_CBlock  \\\n",
       "135        1970          1970       288.0           0  ...                  0   \n",
       "1452       2005          2005        80.0         547  ...                  0   \n",
       "762        2009          2009         0.0          24  ...                  0   \n",
       "932        2006          2006       302.0           0  ...                  0   \n",
       "435        1996          1996         0.0         385  ...                  0   \n",
       "\n",
       "      HeatingQC_TA  SaleType_ConLI  Electrical_FuseF  PoolQC_Gd  \\\n",
       "135              0               0                 0          0   \n",
       "1452             0               0                 0          0   \n",
       "762              0               0                 0          0   \n",
       "932              0               0                 0          0   \n",
       "435              0               0                 0          0   \n",
       "\n",
       "      SaleCondition_Family  BsmtQual_TA  LotShape_Reg  BsmtFinType1_LwQ  \\\n",
       "135                      0            1             1                 0   \n",
       "1452                     0            0             1                 0   \n",
       "762                      0            0             1                 0   \n",
       "932                      0            0             0                 0   \n",
       "435                      0            0             0                 0   \n",
       "\n",
       "      LotConfig_Corner  \n",
       "135                  0  \n",
       "1452                 0  \n",
       "762                  0  \n",
       "932                  1  \n",
       "435                  0  \n",
       "\n",
       "[5 rows x 255 columns]"
      ]
     },
     "execution_count": 8,
     "metadata": {},
     "output_type": "execute_result"
    }
   ],
   "source": [
    "X_train.head()"
   ]
  },
  {
   "cell_type": "markdown",
   "metadata": {},
   "source": [
    "Построим модель RandomForest (Случайный лес) и  выведим важность признаков"
   ]
  },
  {
   "cell_type": "code",
   "execution_count": 9,
   "metadata": {},
   "outputs": [
    {
     "data": {
      "text/plain": [
       "RandomForestRegressor()"
      ]
     },
     "execution_count": 9,
     "metadata": {},
     "output_type": "execute_result"
    }
   ],
   "source": [
    "# Создаем модель RandomForest\n",
    "clf_rf = RandomForestRegressor()\n",
    "clf_rf.fit(X_train, y_train)"
   ]
  },
  {
   "cell_type": "code",
   "execution_count": 10,
   "metadata": {},
   "outputs": [
    {
     "data": {
      "text/plain": [
       "0.9757576132890655"
      ]
     },
     "execution_count": 10,
     "metadata": {},
     "output_type": "execute_result"
    }
   ],
   "source": [
    "# проверяем полученные данные на тренировочных данных\n",
    "clf_rf.score(X_train, y_train)"
   ]
  },
  {
   "cell_type": "code",
   "execution_count": 11,
   "metadata": {},
   "outputs": [
    {
     "data": {
      "text/plain": [
       "0.8941099770325854"
      ]
     },
     "execution_count": 11,
     "metadata": {},
     "output_type": "execute_result"
    }
   ],
   "source": [
    "# проверяем полученные данные на тестовых данных\n",
    "clf_rf.score(X_test, y_test)"
   ]
  },
  {
   "cell_type": "code",
   "execution_count": 12,
   "metadata": {},
   "outputs": [],
   "source": [
    "# Выявляем наиболее важные признаки\n",
    "imp = pd.Series(clf_rf.feature_importances_)"
   ]
  },
  {
   "cell_type": "code",
   "execution_count": 13,
   "metadata": {},
   "outputs": [],
   "source": [
    "imp.index = pd.Series(X_train.columns)"
   ]
  },
  {
   "cell_type": "code",
   "execution_count": 14,
   "metadata": {},
   "outputs": [
    {
     "data": {
      "text/plain": [
       "Id              0.004529\n",
       "MSSubClass      0.002588\n",
       "LotFrontage     0.006453\n",
       "LotArea         0.015125\n",
       "OverallQual     0.540225\n",
       "OverallCond     0.003716\n",
       "YearBuilt       0.014133\n",
       "YearRemodAdd    0.006577\n",
       "MasVnrArea      0.002437\n",
       "BsmtFinSF1      0.025185\n",
       "BsmtFinSF2      0.000425\n",
       "BsmtUnfSF       0.005651\n",
       "TotalBsmtSF     0.029175\n",
       "1stFlrSF        0.023311\n",
       "2ndFlrSF        0.037223\n",
       "LowQualFinSF    0.000074\n",
       "GrLivArea       0.124641\n",
       "BsmtFullBath    0.000866\n",
       "BsmtHalfBath    0.000089\n",
       "FullBath        0.002032\n",
       "HalfBath        0.000913\n",
       "BedroomAbvGr    0.001377\n",
       "KitchenAbvGr    0.000731\n",
       "TotRmsAbvGrd    0.006952\n",
       "Fireplaces      0.003907\n",
       "dtype: float64"
      ]
     },
     "execution_count": 14,
     "metadata": {},
     "output_type": "execute_result"
    }
   ],
   "source": [
    "# Посмотрим на значимость признаков. Большое значение имеет признак Overall Qual, остальные близки к нулю.\n",
    "imp.head(25)"
   ]
  },
  {
   "cell_type": "code",
   "execution_count": 15,
   "metadata": {},
   "outputs": [
    {
     "data": {
      "image/png": "[encoded data removed]",
      "text/plain": [
       "<Figure size 432x288 with 1 Axes>"
      ]
     },
     "metadata": {
      "needs_background": "light"
     },
     "output_type": "display_data"
    }
   ],
   "source": [
    "# Выведим на график 5 наиболее значимых признаков. На графике также видно, что большое значение имеет признак Overall Qual, остальные почти равны нулю.\n",
    "\n",
    "plt.title('5 наиболее важных признаков')\n",
    "plt.xlabel('Признак')\n",
    "plt.ylabel('Коэффициент значимости')\n",
    "plt.bar(imp.sort_values(ascending=False).head().index, imp.sort_values(ascending=False).head())\n",
    "plt.show()"
   ]
  },
  {
   "cell_type": "markdown",
   "metadata": {},
   "source": [
    "### Стекинг"
   ]
  },
  {
   "cell_type": "code",
   "execution_count": 16,
   "metadata": {},
   "outputs": [],
   "source": [
    "from sklearn.ensemble import StackingRegressor\n",
    "from sklearn.linear_model import LinearRegression\n",
    "from sklearn.neighbors import KNeighborsRegressor\n",
    "from sklearn.tree import DecisionTreeRegressor\n",
    "from sklearn.linear_model import RidgeCV"
   ]
  },
  {
   "cell_type": "code",
   "execution_count": 17,
   "metadata": {},
   "outputs": [],
   "source": [
    "# Создаем стэккинг и обучаем его на наших данных \n",
    "\n",
    "Regressor = StackingRegressor(\n",
    "    [\n",
    "        ('LinearRegression', LinearRegression()),\n",
    "        ('KNeighborsRegressor', KNeighborsRegressor()),\n",
    "        ('DecisionTree', DecisionTreeRegressor())\n",
    "    ], RidgeCV())"
   ]
  },
  {
   "cell_type": "code",
   "execution_count": 18,
   "metadata": {},
   "outputs": [
    {
     "data": {
      "text/plain": [
       "StackingRegressor(estimators=[('LinearRegression', LinearRegression()),\n",
       "                              ('KNeighborsRegressor', KNeighborsRegressor()),\n",
       "                              ('DecisionTree', DecisionTreeRegressor())],\n",
       "                  final_estimator=RidgeCV(alphas=array([ 0.1,  1. , 10. ])))"
      ]
     },
     "execution_count": 18,
     "metadata": {},
     "output_type": "execute_result"
    }
   ],
   "source": [
    "Regressor.fit(X_train, y_train)"
   ]
  },
  {
   "cell_type": "code",
   "execution_count": 19,
   "metadata": {},
   "outputs": [
    {
     "name": "stdout",
     "output_type": "stream",
     "text": [
      "Score on train data 0.9477673661935577\n",
      "Score on test data 0.8638684801596793\n",
      "Качество работы на тренировочной выборке для модели LinearRegression 0.922108540356243\n",
      "Качество работы на тествой выборке для модели LinearRegression 0.8533836050579312\n",
      "Качество работы на тренировочной выборке для модели KNeighborsRegressor 0.7419951520813983\n",
      "Качество работы на тествой выборке для модели KNeighborsRegressor 0.6775304068635524\n",
      "Качество работы на тренировочной выборке для модели DecisionTree 1.0\n",
      "Качество работы на тествой выборке для модели DecisionTree 0.7482946912152044\n"
     ]
    }
   ],
   "source": [
    "print(f'Score on train data {Regressor.score(X_train, y_train)}')\n",
    "print(f'Score on test data {Regressor.score(X_test, y_test)}')\n",
    "\n",
    "for i in Regressor.named_estimators:\n",
    "    print(f'Качество работы на тренировочной выборке для модели {i} {Regressor.named_estimators_[i].score(X_train, y_train)}')\n",
    "    print(f'Качество работы на тествой выборке для модели {i} {Regressor.named_estimators_[i].score(X_test, y_test)}')\n"
   ]
  },
  {
   "cell_type": "code",
   "execution_count": 20,
   "metadata": {},
   "outputs": [],
   "source": [
    "score_train = {}\n",
    "score_test = {}\n",
    "\n",
    "for i in Regressor.named_estimators:\n",
    "    score_train[i] = Regressor.named_estimators_[i].score(X_train, y_train)\n",
    "    score_test[i] = Regressor.named_estimators_[i].score(X_test, y_test)\n",
    "\n",
    "score_train['Total']= Regressor.score(X_train, y_train)\n",
    "score_test['Total']= Regressor.score(X_test, y_test)"
   ]
  },
  {
   "cell_type": "code",
   "execution_count": 21,
   "metadata": {},
   "outputs": [
    {
     "data": {
      "text/plain": [
       "<matplotlib.legend.Legend at 0x2aa076efee0>"
      ]
     },
     "execution_count": 21,
     "metadata": {},
     "output_type": "execute_result"
    },
    {
     "data": {
      "image/png": "[encoded data removed]",
      "text/plain": [
       "<Figure size 720x360 with 1 Axes>"
      ]
     },
     "metadata": {
      "needs_background": "light"
     },
     "output_type": "display_data"
    }
   ],
   "source": [
    "plt.figure(figsize=(10,5))\n",
    "plt.bar(range(len(score_train)), score_train.values(), align=\"center\", label='Тренировочная выборка')\n",
    "plt.xticks(range(len(score_train)), list(score_train.keys()))\n",
    "plt.bar(range(len(score_test)), score_test.values(), align=\"center\", label='Тестовая выборка')\n",
    "plt.xticks(range(len(score_test)), list(score_test.keys()))\n",
    "plt.autoscale\n",
    "plt.title('Качество работы модели')\n",
    "plt.xlabel('Модель')\n",
    "plt.ylabel('Результат')\n",
    "plt.legend()"
   ]
  },
  {
   "cell_type": "code",
   "execution_count": null,
   "metadata": {},
   "outputs": [],
   "source": []
  },
  {
   "cell_type": "code",
   "execution_count": null,
   "metadata": {},
   "outputs": [],
   "source": []
  },
  {
   "cell_type": "code",
   "execution_count": null,
   "metadata": {},
   "outputs": [],
   "source": []
  },
  {
   "cell_type": "code",
   "execution_count": null,
   "metadata": {},
   "outputs": [],
   "source": []
  }
 ],
 "metadata": {
  "kernelspec": {
   "display_name": "Python 3",
   "language": "python",
   "name": "python3"
  },
  "language_info": {
   "codemirror_mode": {
    "name": "ipython",
    "version": 3
   },
   "file_extension": ".py",
   "mimetype": "text/x-python",
   "name": "python",
   "nbconvert_exporter": "python",
   "pygments_lexer": "ipython3",
   "version": "3.8.5"
  }
 },
 "nbformat": 4,
 "nbformat_minor": 4
}
