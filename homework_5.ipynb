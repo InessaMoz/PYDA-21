{
 "cells": [
  {
   "cell_type": "markdown",
   "metadata": {},
   "source": [
    "### Домашнее задание к теме \"Работа с файловой системой и модули\"\n",
    "\n",
    "1. Переведите содержимое файла purchase_log.txt в словарь purchases вида:\n",
    "```python\n",
    "{'1840e0b9d4': 'Продукты', ...}\n",
    "```\n",
    "\n",
    "2. Для каждого user_id в файле visit_log.csv определите третий столбец с категорией покупки (если покупка была, сам файл visit_log.csv изменять не надо). Запишите в файл funnel.csv визиты из файла visit_log.csv, в которых были покупки с указанием категории.\n",
    "\n",
    "Учтите условия на данные:\n",
    "- содержимое purchase_log.txt помещается в оперативную память компьютера\n",
    "- содержимое visit_log.csv - нет; используйте только построчную обработку этого файла"
   ]
  },
  {
   "cell_type": "markdown",
   "metadata": {},
   "source": [
    "#### Задание 1\n",
    "\n",
    "1. Переведите содержимое файла purchase_log.txt в словарь purchases вида:\n",
    "```python\n",
    "{'1840e0b9d4': 'Продукты', ...}\n",
    "```\n",
    "\n",
    "NB! Учтите условия на данные:   содержимое purchase_log.txt помещается в оперативную память компьютера"
   ]
  },
  {
   "cell_type": "code",
   "execution_count": null,
   "metadata": {},
   "outputs": [],
   "source": [
    "import json"
   ]
  },
  {
   "cell_type": "code",
   "execution_count": null,
   "metadata": {},
   "outputs": [],
   "source": [
    "f = open('C:\\\\Users\\\\2-hom\\\\Documents\\\\Data_analysis\\\\PYDA-21\\\\DZ\\\\purchase_log.txt', encoding='utf-8')\n",
    "\n",
    "purchases = {}\n",
    "\n",
    "for line in f.readlines()[1:]:\n",
    "    line = line.strip()\n",
    "    dict_ = json.loads(line)\n",
    "    purchases[ dict_['user_id'] ] = dict_['category']     \n",
    "           \n",
    "f.close() \n",
    "print(purchases, type(dict_))     "
   ]
  },
  {
   "cell_type": "markdown",
   "metadata": {},
   "source": [
    "#### Задание 2. \n",
    "Для каждого user_id в файле visit_log.csv определите третий столбец с категорией покупки (если покупка была, сам файл visit_log.csv изменять не надо). Запишите в файл funnel.csv визиты из файла visit_log.csv, в которых были покупки с указанием категории.\n",
    "\n",
    "Учтите условия на данные:\n",
    "\n",
    "содержимое visit_log.csv - используйте только построчную обработку этого файла"
   ]
  },
  {
   "cell_type": "code",
   "execution_count": null,
   "metadata": {},
   "outputs": [],
   "source": [
    "Z1 = open('C:\\\\Users\\\\2-hom\\\\Documents\\\\Data_analysis\\\\PYDA-21\\\\DZ\\\\funnel.csv', 'w')\n",
    "#i = 0\n",
    "with open('C:\\\\Users\\\\2-hom\\\\Documents\\\\Data_analysis\\\\PYDA-21\\\\DZ\\\\visit_log.csv') as f1:\n",
    "    for line in f1:\n",
    "        #i += 1\n",
    "        #if i > 100:\n",
    "            #break\n",
    "        a = line.strip().split(',')\n",
    "        for key, value in purchases.items():\n",
    "            if a[0] == key:\n",
    "                a.append(value)\n",
    "                a_str = ','.join(a)\n",
    "                Z1.write(a_str + '\\n')\n",
    "Z1.close()\n",
    "f1.close()                   \n",
    "    "
   ]
  },
  {
   "cell_type": "code",
   "execution_count": null,
   "metadata": {},
   "outputs": [],
   "source": []
  }
 ],
 "metadata": {
  "kernelspec": {
   "display_name": "Python 3",
   "language": "python",
   "name": "python3"
  },
  "language_info": {
   "codemirror_mode": {
    "name": "ipython",
    "version": 3
   },
   "file_extension": ".py",
   "mimetype": "text/x-python",
   "name": "python",
   "nbconvert_exporter": "python",
   "pygments_lexer": "ipython3",
   "version": "3.8.5"
  }
 },
 "nbformat": 4,
 "nbformat_minor": 4
}
